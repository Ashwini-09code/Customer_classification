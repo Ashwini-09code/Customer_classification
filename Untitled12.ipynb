{
  "nbformat": 4,
  "nbformat_minor": 0,
  "metadata": {
    "colab": {
      "provenance": [],
      "authorship_tag": "ABX9TyPZOJHEgohxADVrEKcGpqAu",
      "include_colab_link": true
    },
    "kernelspec": {
      "name": "python3",
      "display_name": "Python 3"
    },
    "language_info": {
      "name": "python"
    }
  },
  "cells": [
    {
      "cell_type": "markdown",
      "metadata": {
        "id": "view-in-github",
        "colab_type": "text"
      },
      "source": [
        "<a href=\"https://colab.research.google.com/github/Ashwini-09code/Customer_classification/blob/main/Untitled12.ipynb\" target=\"_parent\"><img src=\"https://colab.research.google.com/assets/colab-badge.svg\" alt=\"Open In Colab\"/></a>"
      ]
    },
    {
      "cell_type": "code",
      "execution_count": 1,
      "metadata": {
        "id": "6UihNtW5o_sU"
      },
      "outputs": [],
      "source": [
        "import pandas as pd\n",
        "import numpy as np\n",
        "import matplotlib.pyplot as plt\n",
        "import seaborn as sns"
      ]
    },
    {
      "cell_type": "code",
      "source": [
        "test=pd.read_csv(\"https://raw.githubusercontent.com/Ashwini-09code/Customer_classification/refs/heads/main/existing_base_test.csv\")\n",
        "train=pd.read_csv(\"https://raw.githubusercontent.com/Ashwini-09code/Customer_classification/refs/heads/main/existing_base_train.csv\")\n",
        "sample_submission=pd.read_csv(\"https://raw.githubusercontent.com/Ashwini-09code/Customer_classification/refs/heads/main/sample_submission.csv\")"
      ],
      "metadata": {
        "id": "miv70VpbtcWx"
      },
      "execution_count": 2,
      "outputs": []
    },
    {
      "cell_type": "code",
      "source": [
        "test.shape"
      ],
      "metadata": {
        "colab": {
          "base_uri": "https://localhost:8080/"
        },
        "id": "Sb1tTx04tcgj",
        "outputId": "c2b6bdef-a738-4074-9e5f-1e03c8d1a133"
      },
      "execution_count": 3,
      "outputs": [
        {
          "output_type": "execute_result",
          "data": {
            "text/plain": [
              "(2031, 31)"
            ]
          },
          "metadata": {},
          "execution_count": 3
        }
      ]
    },
    {
      "cell_type": "code",
      "source": [
        "train.shape"
      ],
      "metadata": {
        "colab": {
          "base_uri": "https://localhost:8080/"
        },
        "id": "8gAMiVlWtcsR",
        "outputId": "bc4b221a-cb55-40ec-c664-3f1a02937eed"
      },
      "execution_count": 4,
      "outputs": [
        {
          "output_type": "execute_result",
          "data": {
            "text/plain": [
              "(8124, 32)"
            ]
          },
          "metadata": {},
          "execution_count": 4
        }
      ]
    },
    {
      "cell_type": "code",
      "source": [
        "train.info()"
      ],
      "metadata": {
        "colab": {
          "base_uri": "https://localhost:8080/"
        },
        "id": "IT5u_V6yt2qe",
        "outputId": "074160b0-1986-4fbd-f683-cf28cda8f696"
      },
      "execution_count": 5,
      "outputs": [
        {
          "output_type": "stream",
          "name": "stdout",
          "text": [
            "<class 'pandas.core.frame.DataFrame'>\n",
            "RangeIndex: 8124 entries, 0 to 8123\n",
            "Data columns (total 32 columns):\n",
            " #   Column                           Non-Null Count  Dtype  \n",
            "---  ------                           --------------  -----  \n",
            " 0   REF_NO                           8124 non-null   int64  \n",
            " 1   children                         8124 non-null   object \n",
            " 2   age_band                         8124 non-null   object \n",
            " 3   status                           8124 non-null   object \n",
            " 4   occupation                       8124 non-null   object \n",
            " 5   occupation_partner               8124 non-null   object \n",
            " 6   home_status                      8124 non-null   object \n",
            " 7   family_income                    8124 non-null   object \n",
            " 8   self_employed                    8124 non-null   object \n",
            " 9   self_employed_partner            8124 non-null   object \n",
            " 10  year_last_moved                  8124 non-null   int64  \n",
            " 11  TVarea                           8124 non-null   object \n",
            " 12  post_code                        8124 non-null   object \n",
            " 13  post_area                        8124 non-null   object \n",
            " 14  Average_Credit_Card_Transaction  8124 non-null   float64\n",
            " 15  Balance_Transfer                 8124 non-null   float64\n",
            " 16  Term_Deposit                     8124 non-null   float64\n",
            " 17  Life_Insurance                   8124 non-null   float64\n",
            " 18  Medical_Insurance                8124 non-null   float64\n",
            " 19  Average_A/C_Balance              8124 non-null   float64\n",
            " 20  Personal_Loan                    8124 non-null   float64\n",
            " 21  Investment_in_Mutual_Fund        8124 non-null   float64\n",
            " 22  Investment_Tax_Saving_Bond       8124 non-null   float64\n",
            " 23  Home_Loan                        8124 non-null   float64\n",
            " 24  Online_Purchase_Amount           8124 non-null   float64\n",
            " 25  gender                           8124 non-null   object \n",
            " 26  region                           8124 non-null   object \n",
            " 27  Investment_in_Commudity          8124 non-null   float64\n",
            " 28  Investment_in_Equity             8124 non-null   float64\n",
            " 29  Investment_in_Derivative         8124 non-null   float64\n",
            " 30  Portfolio_Balance                8124 non-null   float64\n",
            " 31  Revenue_Grid                     8124 non-null   int64  \n",
            "dtypes: float64(15), int64(3), object(14)\n",
            "memory usage: 2.0+ MB\n"
          ]
        }
      ]
    },
    {
      "cell_type": "code",
      "source": [
        "test.info()"
      ],
      "metadata": {
        "colab": {
          "base_uri": "https://localhost:8080/"
        },
        "id": "JxbT-RIjt22N",
        "outputId": "c29464b4-23a4-4b39-a9d2-1e7dd1c7ed72"
      },
      "execution_count": 6,
      "outputs": [
        {
          "output_type": "stream",
          "name": "stdout",
          "text": [
            "<class 'pandas.core.frame.DataFrame'>\n",
            "RangeIndex: 2031 entries, 0 to 2030\n",
            "Data columns (total 31 columns):\n",
            " #   Column                           Non-Null Count  Dtype  \n",
            "---  ------                           --------------  -----  \n",
            " 0   REF_NO                           2031 non-null   int64  \n",
            " 1   children                         2031 non-null   object \n",
            " 2   age_band                         2031 non-null   object \n",
            " 3   status                           2031 non-null   object \n",
            " 4   occupation                       2031 non-null   object \n",
            " 5   occupation_partner               2031 non-null   object \n",
            " 6   home_status                      2031 non-null   object \n",
            " 7   family_income                    2031 non-null   object \n",
            " 8   self_employed                    2031 non-null   object \n",
            " 9   self_employed_partner            2031 non-null   object \n",
            " 10  year_last_moved                  2031 non-null   int64  \n",
            " 11  TVarea                           2031 non-null   object \n",
            " 12  post_code                        2031 non-null   object \n",
            " 13  post_area                        2031 non-null   object \n",
            " 14  Average_Credit_Card_Transaction  2031 non-null   float64\n",
            " 15  Balance_Transfer                 2031 non-null   float64\n",
            " 16  Term_Deposit                     2031 non-null   float64\n",
            " 17  Life_Insurance                   2031 non-null   float64\n",
            " 18  Medical_Insurance                2031 non-null   float64\n",
            " 19  Average_A/C_Balance              2031 non-null   float64\n",
            " 20  Personal_Loan                    2031 non-null   float64\n",
            " 21  Investment_in_Mutual_Fund        2031 non-null   float64\n",
            " 22  Investment_Tax_Saving_Bond       2031 non-null   float64\n",
            " 23  Home_Loan                        2031 non-null   float64\n",
            " 24  Online_Purchase_Amount           2031 non-null   float64\n",
            " 25  gender                           2031 non-null   object \n",
            " 26  region                           2031 non-null   object \n",
            " 27  Investment_in_Commudity          2031 non-null   float64\n",
            " 28  Investment_in_Equity             2031 non-null   float64\n",
            " 29  Investment_in_Derivative         2031 non-null   float64\n",
            " 30  Portfolio_Balance                2031 non-null   float64\n",
            "dtypes: float64(15), int64(2), object(14)\n",
            "memory usage: 492.0+ KB\n"
          ]
        }
      ]
    },
    {
      "cell_type": "code",
      "source": [
        "test.isnull().sum()"
      ],
      "metadata": {
        "colab": {
          "base_uri": "https://localhost:8080/",
          "height": 1000
        },
        "id": "inWT9ypRt3FQ",
        "outputId": "6df97f8b-0222-49cf-c153-840d7ed36c40"
      },
      "execution_count": 7,
      "outputs": [
        {
          "output_type": "execute_result",
          "data": {
            "text/plain": [
              "REF_NO                             0\n",
              "children                           0\n",
              "age_band                           0\n",
              "status                             0\n",
              "occupation                         0\n",
              "occupation_partner                 0\n",
              "home_status                        0\n",
              "family_income                      0\n",
              "self_employed                      0\n",
              "self_employed_partner              0\n",
              "year_last_moved                    0\n",
              "TVarea                             0\n",
              "post_code                          0\n",
              "post_area                          0\n",
              "Average_Credit_Card_Transaction    0\n",
              "Balance_Transfer                   0\n",
              "Term_Deposit                       0\n",
              "Life_Insurance                     0\n",
              "Medical_Insurance                  0\n",
              "Average_A/C_Balance                0\n",
              "Personal_Loan                      0\n",
              "Investment_in_Mutual_Fund          0\n",
              "Investment_Tax_Saving_Bond         0\n",
              "Home_Loan                          0\n",
              "Online_Purchase_Amount             0\n",
              "gender                             0\n",
              "region                             0\n",
              "Investment_in_Commudity            0\n",
              "Investment_in_Equity               0\n",
              "Investment_in_Derivative           0\n",
              "Portfolio_Balance                  0\n",
              "dtype: int64"
            ],
            "text/html": [
              "<div>\n",
              "<style scoped>\n",
              "    .dataframe tbody tr th:only-of-type {\n",
              "        vertical-align: middle;\n",
              "    }\n",
              "\n",
              "    .dataframe tbody tr th {\n",
              "        vertical-align: top;\n",
              "    }\n",
              "\n",
              "    .dataframe thead th {\n",
              "        text-align: right;\n",
              "    }\n",
              "</style>\n",
              "<table border=\"1\" class=\"dataframe\">\n",
              "  <thead>\n",
              "    <tr style=\"text-align: right;\">\n",
              "      <th></th>\n",
              "      <th>0</th>\n",
              "    </tr>\n",
              "  </thead>\n",
              "  <tbody>\n",
              "    <tr>\n",
              "      <th>REF_NO</th>\n",
              "      <td>0</td>\n",
              "    </tr>\n",
              "    <tr>\n",
              "      <th>children</th>\n",
              "      <td>0</td>\n",
              "    </tr>\n",
              "    <tr>\n",
              "      <th>age_band</th>\n",
              "      <td>0</td>\n",
              "    </tr>\n",
              "    <tr>\n",
              "      <th>status</th>\n",
              "      <td>0</td>\n",
              "    </tr>\n",
              "    <tr>\n",
              "      <th>occupation</th>\n",
              "      <td>0</td>\n",
              "    </tr>\n",
              "    <tr>\n",
              "      <th>occupation_partner</th>\n",
              "      <td>0</td>\n",
              "    </tr>\n",
              "    <tr>\n",
              "      <th>home_status</th>\n",
              "      <td>0</td>\n",
              "    </tr>\n",
              "    <tr>\n",
              "      <th>family_income</th>\n",
              "      <td>0</td>\n",
              "    </tr>\n",
              "    <tr>\n",
              "      <th>self_employed</th>\n",
              "      <td>0</td>\n",
              "    </tr>\n",
              "    <tr>\n",
              "      <th>self_employed_partner</th>\n",
              "      <td>0</td>\n",
              "    </tr>\n",
              "    <tr>\n",
              "      <th>year_last_moved</th>\n",
              "      <td>0</td>\n",
              "    </tr>\n",
              "    <tr>\n",
              "      <th>TVarea</th>\n",
              "      <td>0</td>\n",
              "    </tr>\n",
              "    <tr>\n",
              "      <th>post_code</th>\n",
              "      <td>0</td>\n",
              "    </tr>\n",
              "    <tr>\n",
              "      <th>post_area</th>\n",
              "      <td>0</td>\n",
              "    </tr>\n",
              "    <tr>\n",
              "      <th>Average_Credit_Card_Transaction</th>\n",
              "      <td>0</td>\n",
              "    </tr>\n",
              "    <tr>\n",
              "      <th>Balance_Transfer</th>\n",
              "      <td>0</td>\n",
              "    </tr>\n",
              "    <tr>\n",
              "      <th>Term_Deposit</th>\n",
              "      <td>0</td>\n",
              "    </tr>\n",
              "    <tr>\n",
              "      <th>Life_Insurance</th>\n",
              "      <td>0</td>\n",
              "    </tr>\n",
              "    <tr>\n",
              "      <th>Medical_Insurance</th>\n",
              "      <td>0</td>\n",
              "    </tr>\n",
              "    <tr>\n",
              "      <th>Average_A/C_Balance</th>\n",
              "      <td>0</td>\n",
              "    </tr>\n",
              "    <tr>\n",
              "      <th>Personal_Loan</th>\n",
              "      <td>0</td>\n",
              "    </tr>\n",
              "    <tr>\n",
              "      <th>Investment_in_Mutual_Fund</th>\n",
              "      <td>0</td>\n",
              "    </tr>\n",
              "    <tr>\n",
              "      <th>Investment_Tax_Saving_Bond</th>\n",
              "      <td>0</td>\n",
              "    </tr>\n",
              "    <tr>\n",
              "      <th>Home_Loan</th>\n",
              "      <td>0</td>\n",
              "    </tr>\n",
              "    <tr>\n",
              "      <th>Online_Purchase_Amount</th>\n",
              "      <td>0</td>\n",
              "    </tr>\n",
              "    <tr>\n",
              "      <th>gender</th>\n",
              "      <td>0</td>\n",
              "    </tr>\n",
              "    <tr>\n",
              "      <th>region</th>\n",
              "      <td>0</td>\n",
              "    </tr>\n",
              "    <tr>\n",
              "      <th>Investment_in_Commudity</th>\n",
              "      <td>0</td>\n",
              "    </tr>\n",
              "    <tr>\n",
              "      <th>Investment_in_Equity</th>\n",
              "      <td>0</td>\n",
              "    </tr>\n",
              "    <tr>\n",
              "      <th>Investment_in_Derivative</th>\n",
              "      <td>0</td>\n",
              "    </tr>\n",
              "    <tr>\n",
              "      <th>Portfolio_Balance</th>\n",
              "      <td>0</td>\n",
              "    </tr>\n",
              "  </tbody>\n",
              "</table>\n",
              "</div><br><label><b>dtype:</b> int64</label>"
            ]
          },
          "metadata": {},
          "execution_count": 7
        }
      ]
    },
    {
      "cell_type": "code",
      "source": [
        "train.isnull().sum()"
      ],
      "metadata": {
        "colab": {
          "base_uri": "https://localhost:8080/",
          "height": 1000
        },
        "id": "L71cbGdruN5F",
        "outputId": "970e3274-ac03-49ec-a4f8-efe5ad1f6be1"
      },
      "execution_count": 8,
      "outputs": [
        {
          "output_type": "execute_result",
          "data": {
            "text/plain": [
              "REF_NO                             0\n",
              "children                           0\n",
              "age_band                           0\n",
              "status                             0\n",
              "occupation                         0\n",
              "occupation_partner                 0\n",
              "home_status                        0\n",
              "family_income                      0\n",
              "self_employed                      0\n",
              "self_employed_partner              0\n",
              "year_last_moved                    0\n",
              "TVarea                             0\n",
              "post_code                          0\n",
              "post_area                          0\n",
              "Average_Credit_Card_Transaction    0\n",
              "Balance_Transfer                   0\n",
              "Term_Deposit                       0\n",
              "Life_Insurance                     0\n",
              "Medical_Insurance                  0\n",
              "Average_A/C_Balance                0\n",
              "Personal_Loan                      0\n",
              "Investment_in_Mutual_Fund          0\n",
              "Investment_Tax_Saving_Bond         0\n",
              "Home_Loan                          0\n",
              "Online_Purchase_Amount             0\n",
              "gender                             0\n",
              "region                             0\n",
              "Investment_in_Commudity            0\n",
              "Investment_in_Equity               0\n",
              "Investment_in_Derivative           0\n",
              "Portfolio_Balance                  0\n",
              "Revenue_Grid                       0\n",
              "dtype: int64"
            ],
            "text/html": [
              "<div>\n",
              "<style scoped>\n",
              "    .dataframe tbody tr th:only-of-type {\n",
              "        vertical-align: middle;\n",
              "    }\n",
              "\n",
              "    .dataframe tbody tr th {\n",
              "        vertical-align: top;\n",
              "    }\n",
              "\n",
              "    .dataframe thead th {\n",
              "        text-align: right;\n",
              "    }\n",
              "</style>\n",
              "<table border=\"1\" class=\"dataframe\">\n",
              "  <thead>\n",
              "    <tr style=\"text-align: right;\">\n",
              "      <th></th>\n",
              "      <th>0</th>\n",
              "    </tr>\n",
              "  </thead>\n",
              "  <tbody>\n",
              "    <tr>\n",
              "      <th>REF_NO</th>\n",
              "      <td>0</td>\n",
              "    </tr>\n",
              "    <tr>\n",
              "      <th>children</th>\n",
              "      <td>0</td>\n",
              "    </tr>\n",
              "    <tr>\n",
              "      <th>age_band</th>\n",
              "      <td>0</td>\n",
              "    </tr>\n",
              "    <tr>\n",
              "      <th>status</th>\n",
              "      <td>0</td>\n",
              "    </tr>\n",
              "    <tr>\n",
              "      <th>occupation</th>\n",
              "      <td>0</td>\n",
              "    </tr>\n",
              "    <tr>\n",
              "      <th>occupation_partner</th>\n",
              "      <td>0</td>\n",
              "    </tr>\n",
              "    <tr>\n",
              "      <th>home_status</th>\n",
              "      <td>0</td>\n",
              "    </tr>\n",
              "    <tr>\n",
              "      <th>family_income</th>\n",
              "      <td>0</td>\n",
              "    </tr>\n",
              "    <tr>\n",
              "      <th>self_employed</th>\n",
              "      <td>0</td>\n",
              "    </tr>\n",
              "    <tr>\n",
              "      <th>self_employed_partner</th>\n",
              "      <td>0</td>\n",
              "    </tr>\n",
              "    <tr>\n",
              "      <th>year_last_moved</th>\n",
              "      <td>0</td>\n",
              "    </tr>\n",
              "    <tr>\n",
              "      <th>TVarea</th>\n",
              "      <td>0</td>\n",
              "    </tr>\n",
              "    <tr>\n",
              "      <th>post_code</th>\n",
              "      <td>0</td>\n",
              "    </tr>\n",
              "    <tr>\n",
              "      <th>post_area</th>\n",
              "      <td>0</td>\n",
              "    </tr>\n",
              "    <tr>\n",
              "      <th>Average_Credit_Card_Transaction</th>\n",
              "      <td>0</td>\n",
              "    </tr>\n",
              "    <tr>\n",
              "      <th>Balance_Transfer</th>\n",
              "      <td>0</td>\n",
              "    </tr>\n",
              "    <tr>\n",
              "      <th>Term_Deposit</th>\n",
              "      <td>0</td>\n",
              "    </tr>\n",
              "    <tr>\n",
              "      <th>Life_Insurance</th>\n",
              "      <td>0</td>\n",
              "    </tr>\n",
              "    <tr>\n",
              "      <th>Medical_Insurance</th>\n",
              "      <td>0</td>\n",
              "    </tr>\n",
              "    <tr>\n",
              "      <th>Average_A/C_Balance</th>\n",
              "      <td>0</td>\n",
              "    </tr>\n",
              "    <tr>\n",
              "      <th>Personal_Loan</th>\n",
              "      <td>0</td>\n",
              "    </tr>\n",
              "    <tr>\n",
              "      <th>Investment_in_Mutual_Fund</th>\n",
              "      <td>0</td>\n",
              "    </tr>\n",
              "    <tr>\n",
              "      <th>Investment_Tax_Saving_Bond</th>\n",
              "      <td>0</td>\n",
              "    </tr>\n",
              "    <tr>\n",
              "      <th>Home_Loan</th>\n",
              "      <td>0</td>\n",
              "    </tr>\n",
              "    <tr>\n",
              "      <th>Online_Purchase_Amount</th>\n",
              "      <td>0</td>\n",
              "    </tr>\n",
              "    <tr>\n",
              "      <th>gender</th>\n",
              "      <td>0</td>\n",
              "    </tr>\n",
              "    <tr>\n",
              "      <th>region</th>\n",
              "      <td>0</td>\n",
              "    </tr>\n",
              "    <tr>\n",
              "      <th>Investment_in_Commudity</th>\n",
              "      <td>0</td>\n",
              "    </tr>\n",
              "    <tr>\n",
              "      <th>Investment_in_Equity</th>\n",
              "      <td>0</td>\n",
              "    </tr>\n",
              "    <tr>\n",
              "      <th>Investment_in_Derivative</th>\n",
              "      <td>0</td>\n",
              "    </tr>\n",
              "    <tr>\n",
              "      <th>Portfolio_Balance</th>\n",
              "      <td>0</td>\n",
              "    </tr>\n",
              "    <tr>\n",
              "      <th>Revenue_Grid</th>\n",
              "      <td>0</td>\n",
              "    </tr>\n",
              "  </tbody>\n",
              "</table>\n",
              "</div><br><label><b>dtype:</b> int64</label>"
            ]
          },
          "metadata": {},
          "execution_count": 8
        }
      ]
    },
    {
      "cell_type": "code",
      "source": [
        "sns.countplot(x='Revenue_Grid', data=train)\n",
        "plt.title(\"Distribution of Revenue Grid (Target Variable)\")\n",
        "plt.show()"
      ],
      "metadata": {
        "colab": {
          "base_uri": "https://localhost:8080/",
          "height": 472
        },
        "id": "rPUxfeYVuUzz",
        "outputId": "44675a60-faee-4908-e343-3a2a96f1c6d3"
      },
      "execution_count": 9,
      "outputs": [
        {
          "output_type": "display_data",
          "data": {
            "text/plain": [
              "<Figure size 640x480 with 1 Axes>"
            ],
            "image/png": "[encoded data removed]"
          },
          "metadata": {}
        }
      ]
    },
    {
      "cell_type": "code",
      "source": [
        "sns.countplot(x='age_band', data=train)\n",
        "plt.title(\"Distribution of Age Band\")\n",
        "plt.xticks(rotation=45)\n",
        "plt.show()"
      ],
      "metadata": {
        "colab": {
          "base_uri": "https://localhost:8080/",
          "height": 513
        },
        "id": "nJRDmbXIuU_h",
        "outputId": "efe90b78-b31e-4a22-acd0-13d7d47d45a3"
      },
      "execution_count": 10,
      "outputs": [
        {
          "output_type": "display_data",
          "data": {
            "text/plain": [
              "<Figure size 640x480 with 1 Axes>"
            ],
            "image/png": "[encoded data removed]"
          },
          "metadata": {}
        }
      ]
    },
    {
      "cell_type": "code",
      "source": [
        "sns.countplot(x='family_income', data=train)\n",
        "plt.title(\"Family Income Distribution\")\n",
        "plt.xticks(rotation=45)\n",
        "plt.show()"
      ],
      "metadata": {
        "colab": {
          "base_uri": "https://localhost:8080/",
          "height": 567
        },
        "id": "ZQvhKorLuVNy",
        "outputId": "993aecf9-16ad-46bf-b617-ddee4fed9473"
      },
      "execution_count": 11,
      "outputs": [
        {
          "output_type": "display_data",
          "data": {
            "text/plain": [
              "<Figure size 640x480 with 1 Axes>"
            ],
            "image/png": "[encoded data removed]"
          },
          "metadata": {}
        }
      ]
    },
    {
      "cell_type": "code",
      "source": [
        "sns.countplot(x='age_band', hue='Revenue_Grid', data=train)\n",
        "plt.title(\"Revenue Grid by Age Band\")\n",
        "plt.xticks(rotation=45)\n",
        "plt.show()"
      ],
      "metadata": {
        "colab": {
          "base_uri": "https://localhost:8080/",
          "height": 513
        },
        "id": "1N9u0yiEurz3",
        "outputId": "86dde925-e2fb-491e-db18-42b1ae04b456"
      },
      "execution_count": 12,
      "outputs": [
        {
          "output_type": "display_data",
          "data": {
            "text/plain": [
              "<Figure size 640x480 with 1 Axes>"
            ],
            "image/png": "[encoded data removed]"
          },
          "metadata": {}
        }
      ]
    },
    {
      "cell_type": "code",
      "source": [
        "sns.countplot(x='family_income', hue='Revenue_Grid', data=train)\n",
        "plt.title(\"Revenue Grid by Family Income\")\n",
        "plt.xticks(rotation=45)\n",
        "plt.show()\n"
      ],
      "metadata": {
        "colab": {
          "base_uri": "https://localhost:8080/",
          "height": 567
        },
        "id": "cLNdz4VJuzzj",
        "outputId": "c67bdcdc-26a2-403e-83b6-b3ceefbee4bd"
      },
      "execution_count": 13,
      "outputs": [
        {
          "output_type": "display_data",
          "data": {
            "text/plain": [
              "<Figure size 640x480 with 1 Axes>"
            ],
            "image/png": "[encoded data removed]"
          },
          "metadata": {}
        }
      ]
    },
    {
      "cell_type": "code",
      "source": [
        "# Drop the REF_NO column (not useful for prediction)\n",
        "train_df = train.drop(columns=['REF_NO'])\n",
        "test_df = test.drop(columns=['REF_NO'])"
      ],
      "metadata": {
        "id": "6M5Ab14rwbvn"
      },
      "execution_count": 14,
      "outputs": []
    },
    {
      "cell_type": "code",
      "source": [
        "# Fill missing values with the mode (most frequent value)\n",
        "train_df = train_df.fillna(train.mode().iloc[0])\n",
        "test_df = test_df.fillna(test.mode().iloc[0])\n",
        "\n",
        "# Convert categorical columns to numeric using Label Encoding\n",
        "from sklearn.preprocessing import LabelEncoder\n",
        "\n",
        "# Combine train and test data for consistent encoding\n",
        "combined_data = pd.concat([train_df.drop(columns=['Revenue_Grid']), test_df], ignore_index=True)\n",
        "\n",
        "label_encoders = {}\n",
        "for col in train_df.select_dtypes(include='object').columns:\n",
        "    le = LabelEncoder()\n",
        "    # Fit the encoder on the combined data to see all unique values\n",
        "    le.fit(combined_data[col])\n",
        "    train_df[col] = le.transform(train_df[col])\n",
        "    test_df[col] = le.transform(test_df[col])\n",
        "    label_encoders[col] = le\n",
        "\n",
        "# The 'Revenue_Grid' column is the target variable in train and should not be in test\n",
        "# If 'Revenue_Grid' was included in combined_data, separate it before splitting back\n",
        "# However, since we dropped it from train before combining, this is not an issue here.\n",
        "\n",
        "# Now train and test dataframes have the encoded categorical columns"
      ],
      "metadata": {
        "id": "eIfq03PXCe8a"
      },
      "execution_count": 15,
      "outputs": []
    },
    {
      "cell_type": "code",
      "source": [
        "from sklearn.tree import DecisionTreeClassifier\n",
        "from sklearn.metrics import f1_score\n",
        "from sklearn.model_selection import train_test_split\n",
        "\n",
        "# Features and target\n",
        "X = train_df.drop('Revenue_Grid', axis=1)\n",
        "y = train_df['Revenue_Grid']\n",
        "\n",
        "# Split the data for validation\n",
        "X_train, X_val, y_train, y_val = train_test_split(X, y, test_size=0.2, random_state=42)\n",
        "\n",
        "# Train the model\n",
        "model = DecisionTreeClassifier(random_state=42)\n",
        "model.fit(X_train, y_train)\n",
        "\n",
        "# Predict and evaluate\n",
        "y_pred = model.predict(X_val)\n",
        "print(\"F1 Score:\", f1_score(y_val, y_pred, average='weighted'))\n"
      ],
      "metadata": {
        "colab": {
          "base_uri": "https://localhost:8080/"
        },
        "id": "FwffkOFgFCy6",
        "outputId": "69d7d03e-8e64-4c5c-acac-1204bd7bd12d"
      },
      "execution_count": 16,
      "outputs": [
        {
          "output_type": "stream",
          "name": "stdout",
          "text": [
            "F1 Score: 0.9471345849646771\n"
          ]
        }
      ]
    },
    {
      "cell_type": "code",
      "source": [
        "# Predict on the test set\n",
        "test_predictions = model.predict(test_df)\n"
      ],
      "metadata": {
        "id": "KciimNA0FfUl"
      },
      "execution_count": 17,
      "outputs": []
    },
    {
      "cell_type": "code",
      "source": [
        "# Drop the REF_NO column (not useful for prediction)\n",
        "# Save the REF_NO column from the original test dataframe for the submission file\n",
        "test_ref_no = test['REF_NO']\n",
        "train_df = train.drop(columns=['REF_NO'])\n",
        "test_df = test.drop(columns=['REF_NO'])"
      ],
      "metadata": {
        "id": "t7ea6YYROaCa"
      },
      "execution_count": 20,
      "outputs": []
    },
    {
      "cell_type": "code",
      "source": [
        "# Prepare submission\n",
        "submission = pd.DataFrame({\n",
        "    'REF_NO': test_ref_no,\n",
        "    'Revenue_Grid': test_predictions\n",
        "})\n",
        "\n",
        "submission.to_csv(\"submission.csv\", index=False)"
      ],
      "metadata": {
        "id": "gx4rD_7NFlph"
      },
      "execution_count": 21,
      "outputs": []
    },
    {
      "cell_type": "code",
      "source": [
        "# Read the submission file\n",
        "submission = pd.read_csv(\"submission.csv\")\n",
        "\n",
        "# Display the first 5 rows\n",
        "print(submission.head())\n"
      ],
      "metadata": {
        "colab": {
          "base_uri": "https://localhost:8080/"
        },
        "id": "5W5vJiJrO6jm",
        "outputId": "ee0b62dd-1641-4487-a08e-a01a4d6fc487"
      },
      "execution_count": 22,
      "outputs": [
        {
          "output_type": "stream",
          "name": "stdout",
          "text": [
            "   REF_NO  Revenue_Grid\n",
            "0     697             2\n",
            "1    7897             2\n",
            "2    4729             2\n",
            "3    6914             2\n",
            "4    2795             2\n"
          ]
        }
      ]
    },
    {
      "cell_type": "code",
      "source": [
        "print(submission)\n"
      ],
      "metadata": {
        "colab": {
          "base_uri": "https://localhost:8080/"
        },
        "id": "vqVq7RcNO_xv",
        "outputId": "fb1577f8-bdbb-4369-85c4-6e6cdc694c9c"
      },
      "execution_count": 23,
      "outputs": [
        {
          "output_type": "stream",
          "name": "stdout",
          "text": [
            "      REF_NO  Revenue_Grid\n",
            "0        697             2\n",
            "1       7897             2\n",
            "2       4729             2\n",
            "3       6914             2\n",
            "4       2795             2\n",
            "...      ...           ...\n",
            "2026    4952             2\n",
            "2027    7348             1\n",
            "2028    3903             1\n",
            "2029    4767             1\n",
            "2030    5208             2\n",
            "\n",
            "[2031 rows x 2 columns]\n"
          ]
        }
      ]
    },
    {
      "cell_type": "code",
      "source": [
        "submission.head(10)  # Show first 10 rows as a nice table\n"
      ],
      "metadata": {
        "colab": {
          "base_uri": "https://localhost:8080/",
          "height": 363
        },
        "id": "XReebLQ-PK0O",
        "outputId": "86863829-8751-45c6-b572-40585ac3419a"
      },
      "execution_count": 24,
      "outputs": [
        {
          "output_type": "execute_result",
          "data": {
            "text/plain": [
              "   REF_NO  Revenue_Grid\n",
              "0     697             2\n",
              "1    7897             2\n",
              "2    4729             2\n",
              "3    6914             2\n",
              "4    2795             2\n",
              "5    7367             2\n",
              "6    9598             2\n",
              "7    6704             1\n",
              "8    4933             2\n",
              "9    9880             1"
            ],
            "text/html": [
              "\n",
              "  <div id=\"df-35f340ef-6519-4af6-8d32-87853763ed47\" class=\"colab-df-container\">\n",
              "    <div>\n",
              "<style scoped>\n",
              "    .dataframe tbody tr th:only-of-type {\n",
              "        vertical-align: middle;\n",
              "    }\n",
              "\n",
              "    .dataframe tbody tr th {\n",
              "        vertical-align: top;\n",
              "    }\n",
              "\n",
              "    .dataframe thead th {\n",
              "        text-align: right;\n",
              "    }\n",
              "</style>\n",
              "<table border=\"1\" class=\"dataframe\">\n",
              "  <thead>\n",
              "    <tr style=\"text-align: right;\">\n",
              "      <th></th>\n",
              "      <th>REF_NO</th>\n",
              "      <th>Revenue_Grid</th>\n",
              "    </tr>\n",
              "  </thead>\n",
              "  <tbody>\n",
              "    <tr>\n",
              "      <th>0</th>\n",
              "      <td>697</td>\n",
              "      <td>2</td>\n",
              "    </tr>\n",
              "    <tr>\n",
              "      <th>1</th>\n",
              "      <td>7897</td>\n",
              "      <td>2</td>\n",
              "    </tr>\n",
              "    <tr>\n",
              "      <th>2</th>\n",
              "      <td>4729</td>\n",
              "      <td>2</td>\n",
              "    </tr>\n",
              "    <tr>\n",
              "      <th>3</th>\n",
              "      <td>6914</td>\n",
              "      <td>2</td>\n",
              "    </tr>\n",
              "    <tr>\n",
              "      <th>4</th>\n",
              "      <td>2795</td>\n",
              "      <td>2</td>\n",
              "    </tr>\n",
              "    <tr>\n",
              "      <th>5</th>\n",
              "      <td>7367</td>\n",
              "      <td>2</td>\n",
              "    </tr>\n",
              "    <tr>\n",
              "      <th>6</th>\n",
              "      <td>9598</td>\n",
              "      <td>2</td>\n",
              "    </tr>\n",
              "    <tr>\n",
              "      <th>7</th>\n",
              "      <td>6704</td>\n",
              "      <td>1</td>\n",
              "    </tr>\n",
              "    <tr>\n",
              "      <th>8</th>\n",
              "      <td>4933</td>\n",
              "      <td>2</td>\n",
              "    </tr>\n",
              "    <tr>\n",
              "      <th>9</th>\n",
              "      <td>9880</td>\n",
              "      <td>1</td>\n",
              "    </tr>\n",
              "  </tbody>\n",
              "</table>\n",
              "</div>\n",
              "    <div class=\"colab-df-buttons\">\n",
              "\n",
              "  <div class=\"colab-df-container\">\n",
              "    <button class=\"colab-df-convert\" onclick=\"convertToInteractive('df-35f340ef-6519-4af6-8d32-87853763ed47')\"\n",
              "            title=\"Convert this dataframe to an interactive table.\"\n",
              "            style=\"display:none;\">\n",
              "\n",
              "  <svg xmlns=\"http://www.w3.org/2000/svg\" height=\"24px\" viewBox=\"0 -960 960 960\">\n",
              "    <path d=\"M120-120v-720h720v720H120Zm60-500h600v-160H180v160Zm220 220h160v-160H400v160Zm0 220h160v-160H400v160ZM180-400h160v-160H180v160Zm440 0h160v-160H620v160ZM180-180h160v-160H180v160Zm440 0h160v-160H620v160Z\"/>\n",
              "  </svg>\n",
              "    </button>\n",
              "\n",
              "  <style>\n",
              "    .colab-df-container {\n",
              "      display:flex;\n",
              "      gap: 12px;\n",
              "    }\n",
              "\n",
              "    .colab-df-convert {\n",
              "      background-color: #E8F0FE;\n",
              "      border: none;\n",
              "      border-radius: 50%;\n",
              "      cursor: pointer;\n",
              "      display: none;\n",
              "      fill: #1967D2;\n",
              "      height: 32px;\n",
              "      padding: 0 0 0 0;\n",
              "      width: 32px;\n",
              "    }\n",
              "\n",
              "    .colab-df-convert:hover {\n",
              "      background-color: #E2EBFA;\n",
              "      box-shadow: 0px 1px 2px rgba(60, 64, 67, 0.3), 0px 1px 3px 1px rgba(60, 64, 67, 0.15);\n",
              "      fill: #174EA6;\n",
              "    }\n",
              "\n",
              "    .colab-df-buttons div {\n",
              "      margin-bottom: 4px;\n",
              "    }\n",
              "\n",
              "    [theme=dark] .colab-df-convert {\n",
              "      background-color: #3B4455;\n",
              "      fill: #D2E3FC;\n",
              "    }\n",
              "\n",
              "    [theme=dark] .colab-df-convert:hover {\n",
              "      background-color: #434B5C;\n",
              "      box-shadow: 0px 1px 3px 1px rgba(0, 0, 0, 0.15);\n",
              "      filter: drop-shadow(0px 1px 2px rgba(0, 0, 0, 0.3));\n",
              "      fill: #FFFFFF;\n",
              "    }\n",
              "  </style>\n",
              "\n",
              "    <script>\n",
              "      const buttonEl =\n",
              "        document.querySelector('#df-35f340ef-6519-4af6-8d32-87853763ed47 button.colab-df-convert');\n",
              "      buttonEl.style.display =\n",
              "        google.colab.kernel.accessAllowed ? 'block' : 'none';\n",
              "\n",
              "      async function convertToInteractive(key) {\n",
              "        const element = document.querySelector('#df-35f340ef-6519-4af6-8d32-87853763ed47');\n",
              "        const dataTable =\n",
              "          await google.colab.kernel.invokeFunction('convertToInteractive',\n",
              "                                                    [key], {});\n",
              "        if (!dataTable) return;\n",
              "\n",
              "        const docLinkHtml = 'Like what you see? Visit the ' +\n",
              "          '<a target=\"_blank\" href=https://colab.research.google.com/notebooks/data_table.ipynb>data table notebook</a>'\n",
              "          + ' to learn more about interactive tables.';\n",
              "        element.innerHTML = '';\n",
              "        dataTable['output_type'] = 'display_data';\n",
              "        await google.colab.output.renderOutput(dataTable, element);\n",
              "        const docLink = document.createElement('div');\n",
              "        docLink.innerHTML = docLinkHtml;\n",
              "        element.appendChild(docLink);\n",
              "      }\n",
              "    </script>\n",
              "  </div>\n",
              "\n",
              "\n",
              "    <div id=\"df-0a106682-77bd-40d1-83a3-700cd934ba39\">\n",
              "      <button class=\"colab-df-quickchart\" onclick=\"quickchart('df-0a106682-77bd-40d1-83a3-700cd934ba39')\"\n",
              "                title=\"Suggest charts\"\n",
              "                style=\"display:none;\">\n",
              "\n",
              "<svg xmlns=\"http://www.w3.org/2000/svg\" height=\"24px\"viewBox=\"0 0 24 24\"\n",
              "     width=\"24px\">\n",
              "    <g>\n",
              "        <path d=\"M19 3H5c-1.1 0-2 .9-2 2v14c0 1.1.9 2 2 2h14c1.1 0 2-.9 2-2V5c0-1.1-.9-2-2-2zM9 17H7v-7h2v7zm4 0h-2V7h2v10zm4 0h-2v-4h2v4z\"/>\n",
              "    </g>\n",
              "</svg>\n",
              "      </button>\n",
              "\n",
              "<style>\n",
              "  .colab-df-quickchart {\n",
              "      --bg-color: #E8F0FE;\n",
              "      --fill-color: #1967D2;\n",
              "      --hover-bg-color: #E2EBFA;\n",
              "      --hover-fill-color: #174EA6;\n",
              "      --disabled-fill-color: #AAA;\n",
              "      --disabled-bg-color: #DDD;\n",
              "  }\n",
              "\n",
              "  [theme=dark] .colab-df-quickchart {\n",
              "      --bg-color: #3B4455;\n",
              "      --fill-color: #D2E3FC;\n",
              "      --hover-bg-color: #434B5C;\n",
              "      --hover-fill-color: #FFFFFF;\n",
              "      --disabled-bg-color: #3B4455;\n",
              "      --disabled-fill-color: #666;\n",
              "  }\n",
              "\n",
              "  .colab-df-quickchart {\n",
              "    background-color: var(--bg-color);\n",
              "    border: none;\n",
              "    border-radius: 50%;\n",
              "    cursor: pointer;\n",
              "    display: none;\n",
              "    fill: var(--fill-color);\n",
              "    height: 32px;\n",
              "    padding: 0;\n",
              "    width: 32px;\n",
              "  }\n",
              "\n",
              "  .colab-df-quickchart:hover {\n",
              "    background-color: var(--hover-bg-color);\n",
              "    box-shadow: 0 1px 2px rgba(60, 64, 67, 0.3), 0 1px 3px 1px rgba(60, 64, 67, 0.15);\n",
              "    fill: var(--button-hover-fill-color);\n",
              "  }\n",
              "\n",
              "  .colab-df-quickchart-complete:disabled,\n",
              "  .colab-df-quickchart-complete:disabled:hover {\n",
              "    background-color: var(--disabled-bg-color);\n",
              "    fill: var(--disabled-fill-color);\n",
              "    box-shadow: none;\n",
              "  }\n",
              "\n",
              "  .colab-df-spinner {\n",
              "    border: 2px solid var(--fill-color);\n",
              "    border-color: transparent;\n",
              "    border-bottom-color: var(--fill-color);\n",
              "    animation:\n",
              "      spin 1s steps(1) infinite;\n",
              "  }\n",
              "\n",
              "  @keyframes spin {\n",
              "    0% {\n",
              "      border-color: transparent;\n",
              "      border-bottom-color: var(--fill-color);\n",
              "      border-left-color: var(--fill-color);\n",
              "    }\n",
              "    20% {\n",
              "      border-color: transparent;\n",
              "      border-left-color: var(--fill-color);\n",
              "      border-top-color: var(--fill-color);\n",
              "    }\n",
              "    30% {\n",
              "      border-color: transparent;\n",
              "      border-left-color: var(--fill-color);\n",
              "      border-top-color: var(--fill-color);\n",
              "      border-right-color: var(--fill-color);\n",
              "    }\n",
              "    40% {\n",
              "      border-color: transparent;\n",
              "      border-right-color: var(--fill-color);\n",
              "      border-top-color: var(--fill-color);\n",
              "    }\n",
              "    60% {\n",
              "      border-color: transparent;\n",
              "      border-right-color: var(--fill-color);\n",
              "    }\n",
              "    80% {\n",
              "      border-color: transparent;\n",
              "      border-right-color: var(--fill-color);\n",
              "      border-bottom-color: var(--fill-color);\n",
              "    }\n",
              "    90% {\n",
              "      border-color: transparent;\n",
              "      border-bottom-color: var(--fill-color);\n",
              "    }\n",
              "  }\n",
              "</style>\n",
              "\n",
              "      <script>\n",
              "        async function quickchart(key) {\n",
              "          const quickchartButtonEl =\n",
              "            document.querySelector('#' + key + ' button');\n",
              "          quickchartButtonEl.disabled = true;  // To prevent multiple clicks.\n",
              "          quickchartButtonEl.classList.add('colab-df-spinner');\n",
              "          try {\n",
              "            const charts = await google.colab.kernel.invokeFunction(\n",
              "                'suggestCharts', [key], {});\n",
              "          } catch (error) {\n",
              "            console.error('Error during call to suggestCharts:', error);\n",
              "          }\n",
              "          quickchartButtonEl.classList.remove('colab-df-spinner');\n",
              "          quickchartButtonEl.classList.add('colab-df-quickchart-complete');\n",
              "        }\n",
              "        (() => {\n",
              "          let quickchartButtonEl =\n",
              "            document.querySelector('#df-0a106682-77bd-40d1-83a3-700cd934ba39 button');\n",
              "          quickchartButtonEl.style.display =\n",
              "            google.colab.kernel.accessAllowed ? 'block' : 'none';\n",
              "        })();\n",
              "      </script>\n",
              "    </div>\n",
              "\n",
              "    </div>\n",
              "  </div>\n"
            ],
            "application/vnd.google.colaboratory.intrinsic+json": {
              "type": "dataframe",
              "variable_name": "submission",
              "summary": "{\n  \"name\": \"submission\",\n  \"rows\": 2031,\n  \"fields\": [\n    {\n      \"column\": \"REF_NO\",\n      \"properties\": {\n        \"dtype\": \"number\",\n        \"std\": 3332,\n        \"min\": 1,\n        \"max\": 11516,\n        \"num_unique_values\": 2031,\n        \"samples\": [\n          8803,\n          8361,\n          3804\n        ],\n        \"semantic_type\": \"\",\n        \"description\": \"\"\n      }\n    },\n    {\n      \"column\": \"Revenue_Grid\",\n      \"properties\": {\n        \"dtype\": \"number\",\n        \"std\": 0,\n        \"min\": 1,\n        \"max\": 2,\n        \"num_unique_values\": 2,\n        \"samples\": [\n          1,\n          2\n        ],\n        \"semantic_type\": \"\",\n        \"description\": \"\"\n      }\n    }\n  ]\n}"
            }
          },
          "metadata": {},
          "execution_count": 24
        }
      ]
    }
  ]
}